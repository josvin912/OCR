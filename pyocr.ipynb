{
 "cells": [
  {
   "cell_type": "code",
   "execution_count": 2,
   "metadata": {},
   "outputs": [],
   "source": [
    "import pytesseract\n",
    "from PIL import Image\n",
    "import cv2\n",
    "import numpy as np"
   ]
  },
  {
   "cell_type": "code",
   "execution_count": 3,
   "metadata": {},
   "outputs": [],
   "source": [
    "file_path='E:\\ML\\OCR\\sign2.jpg' \n",
    "im = Image.open(file_path)\n",
    "im.save('ocr.png', dpi=(300, 300))"
   ]
  },
  {
   "cell_type": "code",
   "execution_count": 4,
   "metadata": {},
   "outputs": [],
   "source": [
    "image = cv2.imread('ocr.png')\n",
    "image = cv2.resize(image, None, fx=2, fy=2, interpolation=cv2.INTER_CUBIC)\n",
    "retval, threshold = cv2.threshold(image,127,255,cv2.THRESH_BINARY)"
   ]
  },
  {
   "cell_type": "code",
   "execution_count": null,
   "metadata": {},
   "outputs": [],
   "source": [
    "pytesseract.pytesseract.tesseract_cmd = r'C:\\Program Files\\Tesseract-OCR\\tesseract.exe'"
   ]
  },
  {
   "cell_type": "code",
   "execution_count": 18,
   "metadata": {},
   "outputs": [],
   "source": [
    "text = pytesseract.image_to_string(threshold)"
   ]
  },
  {
   "cell_type": "code",
   "execution_count": 19,
   "metadata": {},
   "outputs": [
    {
     "name": "stdout",
     "output_type": "stream",
     "text": [
      "Fire Evacuation\n",
      "if you discovered a fire:\n",
      "Manually activate the fire alarm system\n",
      "Determine if it is safe for you to attempt to extinguish the fire\n",
      "immediatety exit the building, using the stairs and closing doors behind you. Don’t use the lift!\n",
      "Call 4403 3999 to provide more detalis about the fire\n",
      "\n",
      "Once Alarm is activated:\n",
      "\n",
      "Walk to the nearest exit closing doors between you and the fire\n",
      "\n",
      "Assist people who have special needs\n",
      "\n",
      "Call the Fire Team for assistance 4403 3999\n",
      "\n",
      "Notify the fire personnel If you suspect someone Is trapped inside the bullding\n",
      "Gather at designated building assembly area\n",
      "\n",
      "Do not attempt to re-enter the buliding unless instructed to do so by the Civil\n",
      "defese and QU Fire Team\n",
      "\n",
      "Alert area occupants and have them evacuate the area\n",
      "\n",
      "Call Fire Team 4403 3999 or Health & Safety 4403 3699\n",
      "\n",
      "Tum off ignition sources of flammable gas, if it was safe to do so\n",
      "\n",
      "if possible, ventilate the affected area (Only if it can be done safely and only if the leak is\n",
      "vented to the outsied) prior to leaving the area, teave fume hoods running\n",
      "\n",
      "Provide information to emergency responders\n",
      "\n",
      "arate\n",
      "oe Se\n",
      "\n",
      "Serious and Minor Medical Emergencies.\n",
      "\n",
      "e Ensure your own safety and that of the injured person 4403 3699\n",
      "Call Health & Safety Section ( From 7:30 AM to 10:00 PM )\n",
      "\n",
      "Call 5556 8713 or 4403 6161 ( Campus Security ) after office hours during week days and during\n",
      "weekends\n",
      "\n",
      "Advise the emergency responder of the nature of the Iliness and location\n",
      "(buliding, floor, room number)\n",
      "\n",
      "Do not move the injured person unless there is a high risk of further injury or death\n",
      "Keep calm and do not leave the person unattended\n",
      "\n",
      "ShaeEss Sr\n",
      "\n",
      "Golulg Gasol ~ Goll GLoaAlig Godly ol\n",
      "Facilities and General Services Department - Health & Sa\n",
      "\n",
      "\n"
     ]
    }
   ],
   "source": [
    "print(text)"
   ]
  },
  {
   "cell_type": "markdown",
   "metadata": {},
   "source": [
    "With additional preprocessing"
   ]
  },
  {
   "cell_type": "code",
   "execution_count": 1,
   "metadata": {},
   "outputs": [],
   "source": [
    "import cv2\n",
    "import pytesseract\n",
    "import numpy as np\n",
    "from pytesseract import Output"
   ]
  },
  {
   "cell_type": "code",
   "execution_count": 2,
   "metadata": {},
   "outputs": [],
   "source": [
    "img_source = cv2.imread('E:\\ML\\OCR\\sign2.jpg')"
   ]
  },
  {
   "cell_type": "code",
   "execution_count": 3,
   "metadata": {},
   "outputs": [],
   "source": [
    "def get_grayscale(image):\n",
    "    return cv2.cvtColor(image, cv2.COLOR_BGR2GRAY)\n",
    "def thresholding(image):\n",
    "    return cv2.threshold(image, 0, 255, cv2.THRESH_BINARY + cv2.THRESH_OTSU)[1]\n",
    "# def opening(image):\n",
    "#     kernel = np.ones((5, 5), np.uint8)\n",
    "#     return cv2.morphologyEx(image, cv2.MORPH_OPEN, kernel)\n",
    "def canny(image):\n",
    "    return cv2.Canny(image, 100, 200)"
   ]
  },
  {
   "cell_type": "code",
   "execution_count": 4,
   "metadata": {},
   "outputs": [],
   "source": [
    "gray = get_grayscale(img_source)\n",
    "thresh = thresholding(gray)\n",
    "# opening = opening(gray)\n",
    "canny = canny(gray)"
   ]
  },
  {
   "cell_type": "code",
   "execution_count": 5,
   "metadata": {},
   "outputs": [],
   "source": [
    "cv2.imshow('img',img_source)"
   ]
  },
  {
   "cell_type": "code",
   "execution_count": 7,
   "metadata": {},
   "outputs": [
    {
     "ename": "",
     "evalue": "",
     "output_type": "error",
     "traceback": [
      "\u001b[1;31mThe Kernel crashed while executing code in the current cell or a previous cell. \n",
      "\u001b[1;31mPlease review the code in the cell(s) to identify a possible cause of the failure. \n",
      "\u001b[1;31mClick <a href='https://aka.ms/vscodeJupyterKernelCrash'>here</a> for more info. \n",
      "\u001b[1;31mView Jupyter <a href='command:jupyter.viewOutput'>log</a> for further details."
     ]
    }
   ],
   "source": [
    "for img in [img_source, gray, thresh, canny]:\n",
    "    d = pytesseract.image_to_data(img, output_type=Output.DICT)\n",
    "    n_boxes = len(d['text'])\n",
    " \n",
    "    # back to RGB\n",
    "    if len(img.shape) == 2:\n",
    "        img = cv2.cvtColor(img, cv2.COLOR_GRAY2RGB)\n",
    " \n",
    "    for i in range(n_boxes):\n",
    "        if int(d['conf'][i]) > 60:\n",
    "            (text, x, y, w, h) = (d['text'][i], d['left'][i], d['top'][i], d['width'][i], d['height'][i])\n",
    "            # don't show empty text\n",
    "            if text and text.strip() != \"\":\n",
    "                img = cv2.rectangle(img, (x, y), (x + w, y + h), (0, 255, 0), 2)\n",
    "                img = cv2.putText(img, text, (x, y - 10), cv2.FONT_HERSHEY_SIMPLEX, 1.2, (0, 255, 0), 3)\n",
    " \n",
    "    cv2.imshow('img', img)\n",
    "    cv2.waitKey(0)"
   ]
  },
  {
   "cell_type": "code",
   "execution_count": null,
   "metadata": {},
   "outputs": [],
   "source": []
  }
 ],
 "metadata": {
  "kernelspec": {
   "display_name": "ocr",
   "language": "python",
   "name": "python3"
  },
  "language_info": {
   "codemirror_mode": {
    "name": "ipython",
    "version": 3
   },
   "file_extension": ".py",
   "mimetype": "text/x-python",
   "name": "python",
   "nbconvert_exporter": "python",
   "pygments_lexer": "ipython3",
   "version": "3.8.19"
  }
 },
 "nbformat": 4,
 "nbformat_minor": 2
}
